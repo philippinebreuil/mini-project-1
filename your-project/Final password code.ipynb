{
 "cells": [
  {
   "cell_type": "markdown",
   "metadata": {},
   "source": [
    "# Final Code"
   ]
  },
  {
   "cell_type": "code",
   "execution_count": 2,
   "metadata": {},
   "outputs": [
    {
     "name": "stdout",
     "output_type": "stream",
     "text": [
      "How long would you like your password to be ? Please select a number bigger than 810\n",
      "Do you want to have some digits? (True or False) : True\n",
      "Do you want to have some lower case? (True or False) : True\n",
      "Do you want to have some UPPER CASE? (True or False) : True\n",
      "Do you want to have some symbols? (True or False) : True\n",
      "Your uncrackable password is : `g8Aa7gp5y \n",
      "Keep it safe! It's been copied to your clipboard \n",
      " ᕕ( ᐛ )ᕗ\n"
     ]
    }
   ],
   "source": [
    "# Import des librairies\n",
    "import random\n",
    "import string #librairie de strings\n",
    "import subprocess #copier dans le clipboard\n",
    "\n",
    "# Définir les characters du password\n",
    "lower_case = string.ascii_lowercase\n",
    "upper_case = string.ascii_uppercase\n",
    "digits = string.digits\n",
    "symbols = string.punctuation\n",
    "\n",
    "# Fonction pour définir la longueur du password\n",
    "def ask_password_length():\n",
    "    while True:\n",
    "        length = int(input(\"How long would you like your password to be ? Please select a number bigger than 8\"))\n",
    "        if length < 8:\n",
    "            print(\"Your password it too short, it should be at least 8 characters\")\n",
    "        else:\n",
    "            return length\n",
    "\n",
    "# Définir la longueur du code \n",
    "password_length = ask_password_length()\n",
    "\n",
    "# Définir les charactères que l'on veut \n",
    "def ask_generic_question(question):\n",
    "    while True:\n",
    "        try:\n",
    "            need = input(question)\n",
    "            need = eval(need)\n",
    "            break \n",
    "        except:\n",
    "            print(\"Plase use True or False\")\n",
    "    return need\n",
    "\n",
    "def password_combo():\n",
    "    need_digits = ask_generic_question(\"Do you want to have some digits? (True or False) : \")\n",
    "    need_lowercase = ask_generic_question(\"Do you want to have some lower case? (True or False) : \")\n",
    "    need_uppercase = ask_generic_question(\"Do you want to have some UPPER CASE? (True or False) : \")\n",
    "    need_symbols = ask_generic_question(\"Do you want to have some symbols? (True or False) : \")\n",
    "    return need_digits, need_lowercase, need_uppercase, need_symbols\n",
    "\n",
    "need_digits, need_lowercase, need_uppercase, need_symbols = password_combo()\n",
    "\n",
    "# Boucle pour remonter les input du user \n",
    "\n",
    "selected_symbols = []\n",
    "if need_digits:\n",
    "    selected_symbols.append(digits)\n",
    "if need_uppercase:\n",
    "    selected_symbols.append(upper_case)\n",
    "if need_lowercase:\n",
    "    selected_symbols.append(lower_case)\n",
    "if need_symbols:\n",
    "    selected_symbols.append(symbols)\n",
    "    \n",
    "# boucle avec la longueur définie du password\n",
    "# random_set cherche les valeurs randomly dans selected symbols\n",
    "# -1 permet de prendre les valeurs (python commence à compter à 0) \n",
    "# Password retourne le choix random du random_set de nos selected symbols\n",
    "\n",
    "password = \"\"\n",
    "\n",
    "for i in range(password_length):\n",
    "    random_set = random.randint(0,len(selected_symbols)-1)\n",
    "    password += random.choice(selected_symbols[random_set])\n",
    "\n",
    "#Copier le password dans le clipboard\n",
    "subprocess.run(\"pbcopy\", universal_newlines=True, input=password)\n",
    "    \n",
    "print(\"Your uncrackable password is :\", password ,\"\\nKeep it safe! It's been copied to your clipboard \\n ᕕ( ᐛ )ᕗ\")    \n",
    "    "
   ]
  },
  {
   "cell_type": "code",
   "execution_count": null,
   "metadata": {},
   "outputs": [],
   "source": [
    "7/05|6:H6"
   ]
  }
 ],
 "metadata": {
  "kernelspec": {
   "display_name": "Python 3",
   "language": "python",
   "name": "python3"
  },
  "language_info": {
   "codemirror_mode": {
    "name": "ipython",
    "version": 3
   },
   "file_extension": ".py",
   "mimetype": "text/x-python",
   "name": "python",
   "nbconvert_exporter": "python",
   "pygments_lexer": "ipython3",
   "version": "3.8.2"
  }
 },
 "nbformat": 4,
 "nbformat_minor": 4
}
