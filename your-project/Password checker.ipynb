{
 "cells": [
  {
   "cell_type": "markdown",
   "metadata": {},
   "source": [
    "# Tool to check if the password is Strong enough"
   ]
  },
  {
   "cell_type": "markdown",
   "metadata": {},
   "source": [
    "Import des librairies"
   ]
  },
  {
   "cell_type": "code",
   "execution_count": 1,
   "metadata": {},
   "outputs": [],
   "source": [
    "import random\n",
    "import string"
   ]
  },
  {
   "cell_type": "markdown",
   "metadata": {},
   "source": [
    "Définir les strings possibles dans le password"
   ]
  },
  {
   "cell_type": "code",
   "execution_count": 12,
   "metadata": {},
   "outputs": [
    {
     "name": "stdout",
     "output_type": "stream",
     "text": [
      "['!', '\"', '#', '$', '%', '&', \"'\", '(', ')', '*', '+', ',', '-', '.', '/', ':', ';', '<', '=', '>', '?', '@', '[', '\\\\', ']', '^', '_', '`', '{', '|', '}', '~']\n"
     ]
    }
   ],
   "source": [
    "lower_case = list(string.ascii_lowercase)\n",
    "upper_case = list(string.ascii_uppercase)\n",
    "digits = list(string.digits)\n",
    "symbols = list(string.punctuation)\n",
    "print(symbols)"
   ]
  },
  {
   "cell_type": "markdown",
   "metadata": {},
   "source": [
    "Demander au user quel password il veut checker"
   ]
  },
  {
   "cell_type": "code",
   "execution_count": 16,
   "metadata": {},
   "outputs": [
    {
     "name": "stdout",
     "output_type": "stream",
     "text": [
      "What password do you want to check? jelfejijiofejeo\n"
     ]
    }
   ],
   "source": [
    "password_to_check = input(\"What password do you want to check? \")"
   ]
  },
  {
   "cell_type": "code",
   "execution_count": 35,
   "metadata": {},
   "outputs": [
    {
     "ename": "SyntaxError",
     "evalue": "invalid syntax (<ipython-input-35-87fe56c9926d>, line 10)",
     "output_type": "error",
     "traceback": [
      "\u001b[0;36m  File \u001b[0;32m\"<ipython-input-35-87fe56c9926d>\"\u001b[0;36m, line \u001b[0;32m10\u001b[0m\n\u001b[0;31m    and any(c in lower_case for c in password_to_check)\u001b[0m\n\u001b[0m    ^\u001b[0m\n\u001b[0;31mSyntaxError\u001b[0m\u001b[0;31m:\u001b[0m invalid syntax\n"
     ]
    }
   ],
   "source": [
    "# Définir les thresholds \n",
    "\n",
    "# Strong password = contient Upper, lower, min 8 characters, symbols, numbers\n",
    "# Medium password = contient lower, min 8 characters, numbers ou symbols\n",
    "# Weak password = contient less de 8 characters\n",
    "\n",
    "if len(password_to_check) < 8:\n",
    "    print(\"Your password is weak :(\")\n",
    "if len(password_to_check) > 8:\n",
    "    and any(c in lower_case for c in password_to_check) \n",
    "    or any (d in upper_case for d in password_to_check) \n",
    "    and any (e in digits for e in password_to_check):\n",
    "    print(\"Your password is Medium!\")\n",
    "\n",
    "#and any(upper_case) and any(digits) and any(symbols)\n",
    "\n"
   ]
  },
  {
   "cell_type": "code",
   "execution_count": null,
   "metadata": {},
   "outputs": [],
   "source": [
    "and any(lower_case) in password_to_check\n",
    "and any(lower_case) in password_to_check:"
   ]
  },
  {
   "cell_type": "code",
   "execution_count": null,
   "metadata": {},
   "outputs": [],
   "source": []
  }
 ],
 "metadata": {
  "kernelspec": {
   "display_name": "Python 3",
   "language": "python",
   "name": "python3"
  },
  "language_info": {
   "codemirror_mode": {
    "name": "ipython",
    "version": 3
   },
   "file_extension": ".py",
   "mimetype": "text/x-python",
   "name": "python",
   "nbconvert_exporter": "python",
   "pygments_lexer": "ipython3",
   "version": "3.8.2"
  }
 },
 "nbformat": 4,
 "nbformat_minor": 4
}
