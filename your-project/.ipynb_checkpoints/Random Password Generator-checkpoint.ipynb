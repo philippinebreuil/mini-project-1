{
 "cells": [
  {
   "cell_type": "markdown",
   "metadata": {},
   "source": [
    "# Pseudo code"
   ]
  },
  {
   "cell_type": "markdown",
   "metadata": {},
   "source": [
    "# Import des librairies et définition des variables"
   ]
  },
  {
   "cell_type": "code",
   "execution_count": 1,
   "metadata": {},
   "outputs": [
    {
     "name": "stdout",
     "output_type": "stream",
     "text": [
      "ABCDEFGHIJKLMNOPQRSTUVWXYZ\n"
     ]
    }
   ],
   "source": [
    "# Import des librairies\n",
    "import random\n",
    "import string #librairie de strings\n",
    "\n",
    "# Définir les characters du password\n",
    "lower_case = string.ascii_lowercase\n",
    "upper_case = string.ascii_uppercase\n",
    "digits = string.digits\n",
    "symbols = string.punctuation\n",
    "print(upper_case)\n"
   ]
  },
  {
   "cell_type": "markdown",
   "metadata": {},
   "source": [
    "# Obtenir la longueur du password"
   ]
  },
  {
   "cell_type": "code",
   "execution_count": 2,
   "metadata": {},
   "outputs": [],
   "source": [
    "# Fonction pour définir la longueur du password\n",
    "def ask_password_length():\n",
    "    length = input(\"How long would you like your password to be ? : \")\n",
    "    return int(length)"
   ]
  },
  {
   "cell_type": "code",
   "execution_count": 3,
   "metadata": {},
   "outputs": [
    {
     "name": "stdout",
     "output_type": "stream",
     "text": [
      "How long would you like your password to be ? : 10\n"
     ]
    }
   ],
   "source": [
    "password_length = ask_password_length()"
   ]
  },
  {
   "cell_type": "code",
   "execution_count": 4,
   "metadata": {},
   "outputs": [
    {
     "data": {
      "text/plain": [
       "10"
      ]
     },
     "execution_count": 4,
     "metadata": {},
     "output_type": "execute_result"
    }
   ],
   "source": [
    "password_length"
   ]
  },
  {
   "cell_type": "markdown",
   "metadata": {},
   "source": [
    "Ici j'aimerais rajouter un message d'erreur si le user choisit moins de 10 character ou plus de 18 characters"
   ]
  },
  {
   "cell_type": "markdown",
   "metadata": {},
   "source": [
    "# Définir les charactères que l'on veut dans le password "
   ]
  },
  {
   "cell_type": "code",
   "execution_count": 5,
   "metadata": {},
   "outputs": [],
   "source": [
    "def ask_generic_question(question):\n",
    "    while True:\n",
    "        try:\n",
    "            need = input(question)\n",
    "            need = eval(need)\n",
    "            break \n",
    "        except:\n",
    "            print(\"Plase use True or False\")\n",
    "    return need"
   ]
  },
  {
   "cell_type": "code",
   "execution_count": 6,
   "metadata": {},
   "outputs": [],
   "source": [
    "# Poser toutes ces questions en 1 bloc unique \n",
    "\n",
    "def password_combo():\n",
    "    need_digits = ask_generic_question(\"Do you want to have some digits? (True or False) : \")\n",
    "    need_lowercase = ask_generic_question(\"Do you want to have some lower case? (True or False) : \")\n",
    "    need_uppercase = ask_generic_question(\"Do you want to have some UPPER CASE? (True or False) : \")\n",
    "    need_symbols = ask_generic_question(\"Do you want to have some symbols? (True or False) : \")\n",
    "    return need_digits, need_lowercase, need_uppercase, need_symbols"
   ]
  },
  {
   "cell_type": "code",
   "execution_count": 7,
   "metadata": {},
   "outputs": [
    {
     "name": "stdout",
     "output_type": "stream",
     "text": [
      "Do you want to have some digits? (True or False) : True\n",
      "Do you want to have some lower case? (True or False) : True\n",
      "Do you want to have some UPPER CASE? (True or False) : True\n",
      "Do you want to have some symbols? (True or False) : True\n"
     ]
    }
   ],
   "source": [
    "need_digits, need_lowercase, need_uppercase, need_symbols = password_combo()"
   ]
  },
  {
   "cell_type": "code",
   "execution_count": 8,
   "metadata": {},
   "outputs": [
    {
     "name": "stdout",
     "output_type": "stream",
     "text": [
      "True True True True\n"
     ]
    }
   ],
   "source": [
    "print(need_digits, need_lowercase, need_uppercase, need_symbols)"
   ]
  },
  {
   "cell_type": "markdown",
   "metadata": {},
   "source": [
    "# Utiliser les réponses pour du User "
   ]
  },
  {
   "cell_type": "markdown",
   "metadata": {},
   "source": [
    "Boucle de if pour faire remonter les inputs du user"
   ]
  },
  {
   "cell_type": "code",
   "execution_count": 24,
   "metadata": {},
   "outputs": [],
   "source": [
    "selected_symbols = []\n",
    "if need_digits:\n",
    "    selected_symbols.append(digits)\n",
    "if need_uppercase:\n",
    "    selected_symbols.append(upper_case)\n",
    "if need_lowercase:\n",
    "    selected_symbols.append(lower_case)\n",
    "if need_symbols:\n",
    "    selected_symbols.append(symbols)"
   ]
  },
  {
   "cell_type": "markdown",
   "metadata": {},
   "source": [
    "# Générer le mot de Passe"
   ]
  },
  {
   "cell_type": "code",
   "execution_count": 28,
   "metadata": {},
   "outputs": [],
   "source": [
    "# boucle avec la longueur définie du password\n",
    "# random_set cherche les valeurs randomly dans selected symbols\n",
    "# -1 permet de prendre les valeurs (python commence à compter à 0) \n",
    "# Password retourne le choix random du random_set de nos selected symbols"
   ]
  },
  {
   "cell_type": "code",
   "execution_count": 29,
   "metadata": {},
   "outputs": [],
   "source": [
    "password = \"\"\n",
    "\n",
    "for i in range(password_length):\n",
    "    random_set = random.randint(0,len(selected_symbols)-1)\n",
    "    password += random.choice(selected_symbols[random_set])"
   ]
  },
  {
   "cell_type": "code",
   "execution_count": 30,
   "metadata": {},
   "outputs": [
    {
     "name": "stdout",
     "output_type": "stream",
     "text": [
      "?a?RuBE_+9\n"
     ]
    }
   ],
   "source": [
    "print(password)"
   ]
  }
 ],
 "metadata": {
  "kernelspec": {
   "display_name": "Python 3",
   "language": "python",
   "name": "python3"
  },
  "language_info": {
   "codemirror_mode": {
    "name": "ipython",
    "version": 3
   },
   "file_extension": ".py",
   "mimetype": "text/x-python",
   "name": "python",
   "nbconvert_exporter": "python",
   "pygments_lexer": "ipython3",
   "version": "3.8.2"
  }
 },
 "nbformat": 4,
 "nbformat_minor": 4
}
